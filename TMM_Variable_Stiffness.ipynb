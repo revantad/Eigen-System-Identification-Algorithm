{
  "nbformat": 4,
  "nbformat_minor": 0,
  "metadata": {
    "colab": {
      "name": "TMM - Variable Stiffness.ipynb",
      "provenance": [],
      "collapsed_sections": [],
      "authorship_tag": "ABX9TyN14/u3Q482IECvxZNFuqiM",
      "include_colab_link": true
    },
    "kernelspec": {
      "name": "python3",
      "display_name": "Python 3"
    }
  },
  "cells": [
    {
      "cell_type": "markdown",
      "metadata": {
        "id": "view-in-github",
        "colab_type": "text"
      },
      "source": [
        "<a href=\"https://colab.research.google.com/github/revantad/Eigen-System-Identification-Algorithm/blob/master/TMM_Variable_Stiffness.ipynb\" target=\"_parent\"><img src=\"https://colab.research.google.com/assets/colab-badge.svg\" alt=\"Open In Colab\"/></a>"
      ]
    },
    {
      "cell_type": "markdown",
      "metadata": {
        "id": "iQOurr1z4x5_",
        "colab_type": "text"
      },
      "source": [
        "# TMM for Elastic Beam with multiple resonators at fixed distance with variable stiffness."
      ]
    },
    {
      "cell_type": "code",
      "metadata": {
        "id": "Y7c_Mn934j3V",
        "colab_type": "code",
        "colab": {}
      },
      "source": [
        "import numpy as np\n",
        "\n",
        "# Beam Properties\n",
        "\n",
        "E = 2.2e9 # Beam Youngs Modulus\n",
        "p = 1.55e3 # Beam Density\n",
        "b = 0.0381 # Beam Width\n",
        "h = 0.073025 # Beam Height\n",
        "A = b*h # Beam Cross Section Area\n",
        "I = (b*b*b)*h / 12 # Beam\n",
        "l = 1.2192 # Beam Length\n",
        "d = 0.040132 #  \n",
        "\n",
        "alpha = 0.342 # \n",
        "\n",
        "# Resonator Properties\n",
        "\n",
        "K = 1.35e6\n",
        "m = 0.18 # Tip Mass\n",
        "wr = np.sqrt(K/m)\n",
        "\n",
        "omega = range(0, 5*wr, 1)"
      ],
      "execution_count": 0,
      "outputs": []
    },
    {
      "cell_type": "code",
      "metadata": {
        "id": "OJnDEt5k6BV4",
        "colab_type": "code",
        "colab": {}
      },
      "source": [
        ""
      ],
      "execution_count": 0,
      "outputs": []
    }
  ]
}